{
 "metadata": {
  "language": "lua",
  "name": "",
  "signature": "sha256:5c707da6d4fe104f9db1afa69a7aa08c1ca8fe22dcaf0f751279856be61cb744"
 },
 "nbformat": 3,
 "nbformat_minor": 0,
 "worksheets": [
  {
   "cells": [
    {
     "cell_type": "code",
     "collapsed": false,
     "input": [
      "require 'nn'\n",
      "n_channels = 3\n",
      "series = torch.randn(256,1)\n",
      "\n",
      "model = nn.Parallel(n_channels,1)\n",
      "for i=1,n_channels do\n",
      "    local t = nn.Sequential()\n",
      "    t:add(nn.TemporalConvolution(1,1,5))\n",
      "    t:add(nn.Sigmoid())\n",
      "    t:add(nn.TemporalSubSampling(1,2,2))\n",
      "    \n",
      "    t:add(nn.TemporalConvolution(1,1,5))\n",
      "    t:add(nn.Sigmoid())\n",
      "    t:add(nn.TemporalSubSampling(1,2,2))\n",
      "    model:add(t)\n",
      "end    \n",
      "\n",
      "output = model:forward(series)\n",
      "print(output)"
     ],
     "language": "python",
     "metadata": {},
     "outputs": [
      {
       "ename": "/usr/local/share/lua/5.1/nn/Parallel.lua:12: bad argument #1 to 'size' (out of range)\nstack traceback:\n\t[C]: in function 'size'\n\t/usr/local/share/lua/5.1/nn/Parallel.lua:12: in function 'forward'\n\t[string \"n_channels = 3...\"]:17: in main chunk\n\t[C]: in function 'xpcall'\n\t/usr/local/share/lua/5.1/itorch/main.lua:174: in function </usr/local/share/lua/5.1/itorch/main.lua:140>\n\t/usr/local/share/lua/5.1/lzmq/poller.lua:75: in function 'poll'\n\t/usr/local/share/lua/5.1/lzmq/impl/loop.lua:307: in function 'poll'\n\t/usr/local/share/lua/5.1/lzmq/impl/loop.lua:325: in function 'sleep_ex'\n\t/usr/local/share/lua/5.1/lzmq/impl/loop.lua:370: in function 'start'\n\t/usr/local/share/lua/5.1/itorch/main.lua:341: in main chunk\n\t[C]: in function 'require'\n\t(command line):1: in main chunk\n\t[C]: at 0x0103ceff20",
       "evalue": "",
       "output_type": "pyerr",
       "traceback": [
        "/usr/local/share/lua/5.1/nn/Parallel.lua:12: bad argument #1 to 'size' (out of range)\nstack traceback:\n\t[C]: in function 'size'\n\t/usr/local/share/lua/5.1/nn/Parallel.lua:12: in function 'forward'\n\t[string \"n_channels = 3...\"]:17: in main chunk\n\t[C]: in function 'xpcall'\n\t/usr/local/share/lua/5.1/itorch/main.lua:174: in function </usr/local/share/lua/5.1/itorch/main.lua:140>\n\t/usr/local/share/lua/5.1/lzmq/poller.lua:75: in function 'poll'\n\t/usr/local/share/lua/5.1/lzmq/impl/loop.lua:307: in function 'poll'\n\t/usr/local/share/lua/5.1/lzmq/impl/loop.lua:325: in function 'sleep_ex'\n\t/usr/local/share/lua/5.1/lzmq/impl/loop.lua:370: in function 'start'\n\t/usr/local/share/lua/5.1/itorch/main.lua:341: in main chunk\n\t[C]: in function 'require'\n\t(command line):1: in main chunk\n\t[C]: at 0x0103ceff20"
       ]
      }
     ],
     "prompt_number": 66
    },
    {
     "cell_type": "code",
     "collapsed": false,
     "input": [
      "require 'nn'\n",
      "\n",
      "nInputSamples = 1\n",
      "nOutputSamples = 256\n",
      "nPoints = 256\n",
      "kernelSize = 5\n",
      "\n",
      "input = torch.rand(nPoints, nInputSamples)\n",
      "--print(input)\n",
      "\n",
      "n_feature_maps = 10\n",
      "\n",
      "model = nn.Sequential()\n",
      "model:add(nn.TemporalConvolution(1,n_feature_maps,5))\n",
      "model:add(nn.Sigmoid())\n",
      "model:add(nn.TemporalSubSampling(n_feature_maps,2,2))\n",
      "\n",
      "model:add(nn.TemporalConvolution(n_feature_maps,n_feature_maps,5))\n",
      "model:add(nn.Sigmoid())\n",
      "model:add(nn.TemporalSubSampling(n_feature_maps,2,2))\n",
      "\n",
      "output = model:forward(input)\n",
      "\n",
      "print(output)"
     ],
     "language": "python",
     "metadata": {},
     "outputs": [
      {
       "metadata": {},
       "output_type": "pyout",
       "prompt_number": 163,
       "text": [
        "-0.4502 -0.0249  0.0941 -0.5508 -0.3694  0.4197 -0.6110 -0.2379 -0.9800  0.0319\n",
        "-0.4502 -0.0265  0.0944 -0.5519 -0.3657  0.4138 -0.6106 -0.2394 -0.9836  0.0318\n",
        "-0.4496 -0.0267  0.0944 -0.5470 -0.3677  0.4172 -0.6132 -0.2399 -0.9792  0.0317\n",
        "-0.4505 -0.0252  0.0942 -0.5484 -0.3640  0.4170 -0.6104 -0.2403 -0.9783  0.0352\n",
        "-0.4488 -0.0246  0.0940 -0.5501 -0.3650  0.4199 -0.6107 -0.2419 -0.9826  0.0329\n",
        "-0.4495 -0.0253  0.0941 -0.5510 -0.3643  0.4202 -0.6139 -0.2407 -0.9821  0.0331\n",
        "-0.4493 -0.0255  0.0942 -0.5498 -0.3637  0.4160 -0.6089 -0.2396 -0.9795  0.0324\n",
        "-0.4498 -0.0251  0.0941 -0.5474 -0.3689  0.4203 -0.6103 -0.2383 -0.9813  0.0333\n",
        "-0.4507 -0.0238  0.0939 -0.5523 -0.3684  0.4189 -0.6101 -0.2390 -0.9816  0.0354\n",
        "-0.4491 -0.0261  0.0942 -0.5518 -0.3657  0.4180 -0.6121 -0.2397 -0.9806  0.0300\n",
        "-0.4498 -0.0265  0.0944 -0.5481 -0.3673  0.4171 -0.6114 -0.2393 -0.9785  0.0323\n",
        "-0.4503 -0.0250  0.0942 -0.5498 -0.3627  0.4156 -0.6101 -0.2396 -0.9831  0.0338\n",
        "-0.4497 -0.0251  0.0941 -0.5472 -0.3675  0.4195 -0.6107 -0.2393 -0.9796  0.0331\n",
        "-0.4508 -0.0242  0.0940 -0.5510 -0.3673  0.4203 -0.6101 -0.2382 -0.9789  0.0346\n",
        "-0.4495 -0.0249  0.0941 -0.5535 -0.3653  0.4175 -0.6114 -0.2403 -0.9847  0.0314\n",
        "-0.4495 -0.0274  0.0945 -0.5491 -0.3690  0.4164 -0.6121 -0.2390 -0.9785  0.0300\n",
        "-0.4508 -0.0249  0.0943 -0.5492 -0.3668  0.4170 -0.6130 -0.2401 -0.9817  0.0355\n",
        "-0.4505 -0.0254  0.0941 -0.5509 -0.3676  0.4180 -0.6111 -0.2390 -0.9790  0.0340\n",
        "-0.4494 -0.0260  0.0942 -0.5509 -0.3681  0.4183 -0.6104 -0.2396 -0.9790  0.0305\n",
        "-0.4507 -0.0253  0.0944 -0.5515 -0.3649  0.4182 -0.6140 -0.2386 -0.9838  0.0324\n",
        "-0.4504 -0.0255  0.0942 -0.5512 -0.3722  0.4154 -0.6095 -0.2390 -0.9783  0.0336\n",
        "-0.4502 -0.0267  0.0944 -0.5513 -0.3683  0.4181 -0.6161 -0.2403 -0.9829  0.0310\n",
        "-0.4511 -0.0264  0.0945 -0.5506 -0.3677  0.4148 -0.6112 -0.2381 -0.9793  0.0333\n",
        "-0.4504 -0.0255  0.0943 -0.5509 -0.3690  0.4166 -0.6100 -0.2379 -0.9801  0.0322\n",
        "-0.4506 -0.0248  0.0943 -0.5503 -0.3678  0.4186 -0.6144 -0.2394 -0.9816  0.0322\n",
        "-0.4510 -0.0272  0.0943 -0.5514 -0.3700  0.4144 -0.6106 -0.2389 -0.9804  0.0339\n",
        "-0.4505 -0.0249  0.0943 -0.5518 -0.3710  0.4206 -0.6136 -0.2381 -0.9782  0.0306\n",
        "-0.4507 -0.0267  0.0945 -0.5543 -0.3682  0.4134 -0.6133 -0.2407 -0.9846  0.0329\n",
        "-0.4502 -0.0274  0.0947 -0.5503 -0.3689  0.4162 -0.6150 -0.2386 -0.9780  0.0297\n",
        "-0.4514 -0.0257  0.0945 -0.5494 -0.3683  0.4152 -0.6117 -0.2388 -0.9771  0.0349\n",
        "-0.4502 -0.0258  0.0942 -0.5517 -0.3690  0.4165 -0.6122 -0.2410 -0.9834  0.0327\n",
        "-0.4499 -0.0276  0.0946 -0.5510 -0.3651  0.4159 -0.6140 -0.2399 -0.9808  0.0300\n",
        "-0.4496 -0.0258  0.0944 -0.5478 -0.3647  0.4150 -0.6112 -0.2410 -0.9802  0.0332\n",
        "-0.4499 -0.0250  0.0941 -0.5483 -0.3673  0.4194 -0.6124 -0.2410 -0.9808  0.0353\n",
        "-0.4497 -0.0245  0.0940 -0.5513 -0.3623  0.4187 -0.6117 -0.2408 -0.9818  0.0336\n",
        "-0.4494 -0.0256  0.0941 -0.5488 -0.3649  0.4185 -0.6089 -0.2379 -0.9792  0.0324\n",
        "-0.4501 -0.0235  0.0940 -0.5492 -0.3685  0.4203 -0.6092 -0.2385 -0.9795  0.0339\n",
        "-0.4505 -0.0250  0.0941 -0.5526 -0.3688  0.4188 -0.6120 -0.2391 -0.9844  0.0334\n",
        "-0.4497 -0.0272  0.0943 -0.5520 -0.3682  0.4153 -0.6113 -0.2391 -0.9797  0.0306\n",
        "-0.4499 -0.0259  0.0945 -0.5480 -0.3658  0.4181 -0.6129 -0.2388 -0.9768  0.0308\n",
        "-0.4505 -0.0253  0.0942 -0.5497 -0.3660  0.4145 -0.6104 -0.2413 -0.9859  0.0360\n",
        "-0.4499 -0.0256  0.0942 -0.5500 -0.3679  0.4195 -0.6120 -0.2386 -0.9795  0.0317\n",
        "-0.4498 -0.0251  0.0941 -0.5497 -0.3647  0.4174 -0.6116 -0.2409 -0.9809  0.0342\n",
        "-0.4500 -0.0255  0.0942 -0.5494 -0.3677  0.4198 -0.6100 -0.2380 -0.9785  0.0319\n",
        "-0.4506 -0.0243  0.0941 -0.5525 -0.3677  0.4183 -0.6107 -0.2384 -0.9844  0.0341\n",
        "-0.4501 -0.0256  0.0943 -0.5520 -0.3685  0.4177 -0.6119 -0.2378 -0.9781  0.0305\n",
        "-0.4493 -0.0276  0.0945 -0.5491 -0.3667  0.4135 -0.6114 -0.2416 -0.9799  0.0313\n",
        "-0.4498 -0.0262  0.0944 -0.5474 -0.3650  0.4182 -0.6152 -0.2420 -0.9814  0.0333\n",
        "-0.4505 -0.0246  0.0940 -0.5502 -0.3656  0.4184 -0.6111 -0.2405 -0.9806  0.0362\n",
        "-0.4493 -0.0249  0.0941 -0.5519 -0.3620  0.4183 -0.6094 -0.2382 -0.9815  0.0307\n",
        "-0.4490 -0.0253  0.0942 -0.5476 -0.3690  0.4187 -0.6103 -0.2402 -0.9790  0.0328\n",
        "-0.4505 -0.0250 "
       ]
      },
      {
       "metadata": {},
       "output_type": "pyout",
       "prompt_number": 163,
       "text": [
        " 0.0941 -0.5500 -0.3648  0.4184 -0.6130 -0.2402 -0.9835  0.0341\n",
        "-0.4499 -0.0262  0.0941 -0.5502 -0.3682  0.4167 -0.6086 -0.2389 -0.9811  0.0334\n",
        "-0.4496 -0.0246  0.0942 -0.5501 -0.3651  0.4204 -0.6113 -0.2382 -0.9782  0.0308\n",
        "-0.4502 -0.0241  0.0942 -0.5501 -0.3667  0.4187 -0.6113 -0.2399 -0.9805  0.0348\n",
        "-0.4507 -0.0254  0.0941 -0.5521 -0.3684  0.4178 -0.6118 -0.2383 -0.9828  0.0331\n",
        "-0.4504 -0.0265  0.0944 -0.5513 -0.3699  0.4162 -0.6099 -0.2371 -0.9772  0.0311\n",
        "-0.4497 -0.0266  0.0944 -0.5498 -0.3688  0.4160 -0.6137 -0.2418 -0.9836  0.0312\n",
        "-0.4507 -0.0271  0.0946 -0.5501 -0.3653  0.4156 -0.6130 -0.2390 -0.9802  0.0320\n",
        "-0.4502 -0.0238  0.0941 -0.5497 -0.3673  0.4184 -0.6117 -0.2402 -0.9808  0.0353\n",
        "-0.4502 -0.0257  0.0941 -0.5513 -0.3680  0.4185 -0.6119 -0.2394 -0.9799  0.0323\n",
        "[torch.DoubleTensor of dimension 61x10]\n",
        "\n"
       ]
      }
     ],
     "prompt_number": 163
    },
    {
     "cell_type": "code",
     "collapsed": false,
     "input": [
      "--testing parallel\n",
      "\n",
      "series = torch.randn(10,2)\n",
      "print(series)\n",
      "\n",
      "mlp=nn.Parallel(2,1)    \n",
      "for i= 1,20 do\n",
      "    --print (i)\n",
      "    local t = nn.Sequential()\n",
      "    t:add(nn.Abs())\n",
      "    --t:add(nn.Abs())\n",
      "    mlp:add(t)\n",
      "end\n",
      "\n",
      "\n",
      "print(mlp:forward(series))"
     ],
     "language": "python",
     "metadata": {},
     "outputs": [
      {
       "metadata": {},
       "output_type": "pyout",
       "prompt_number": 156,
       "text": [
        "-0.7973  0.9123\n",
        " 0.1127 -0.0850\n",
        "-1.7198 -0.4717\n",
        "-1.2561  0.9198\n",
        " 0.6580  0.6224\n",
        " 0.7294  1.0266\n",
        " 0.5399 -1.4475\n",
        "-2.1706 -0.1650\n",
        "-2.2623 -0.6995\n",
        " 0.5918  0.3684\n",
        "[torch.DoubleTensor of dimension 10x2]\n",
        "\n",
        " 0.7973\n",
        " 0.1127\n",
        " 1.7198\n",
        " 1.2561\n",
        " 0.6580\n",
        " 0.7294\n",
        " 0.5399\n",
        " 2.1706\n",
        " 2.2623\n",
        " 0.5918\n",
        " 0.9123\n",
        " 0.0850\n",
        " 0.4717\n",
        " 0.9198\n",
        " 0.6224\n",
        " 1.0266\n",
        " 1.4475\n",
        " 0.1650\n",
        " 0.6995\n",
        " 0.3684\n",
        "[torch.DoubleTensor of dimension 20]\n",
        "\n"
       ]
      }
     ],
     "prompt_number": 156
    },
    {
     "cell_type": "code",
     "collapsed": false,
     "input": [],
     "language": "python",
     "metadata": {},
     "outputs": [
      {
       "metadata": {},
       "output_type": "pyout",
       "prompt_number": 111,
       "text": [
        "\n"
       ]
      }
     ],
     "prompt_number": 111
    },
    {
     "cell_type": "code",
     "collapsed": false,
     "input": [
      "require 'nn'\n",
      "\n",
      "input = torch.rand(256, 3)\n",
      "print(input:size())\n",
      "\n",
      "n_feature_maps = 10\n",
      "\n",
      "--model2 = nn.Sequential()\n",
      "mlp=nn.Parallel(2,1) \n",
      "for i = 1,3 do\n",
      "    model = nn.Sequential()\n",
      "    model:add(nn.TemporalConvolution(1,n_feature_maps,5))\n",
      "    \n",
      "    model:add(nn.Sigmoid())\n",
      "    model:add(nn.TemporalSubSampling(n_feature_maps,2,2))\n",
      "\n",
      "    model:add(nn.TemporalConvolution(n_feature_maps,n_feature_maps,5))\n",
      "    model:add(nn.Sigmoid())\n",
      "    model:add(nn.TemporalSubSampling(n_feature_maps,2,2))\n",
      "    --print(model:size())\n",
      "    --mlp:add(model)\n",
      "    --output = model:forward(input)\n",
      "    --print(output:size())\n",
      "    mlp:add(model)\n",
      "end\n",
      "\n",
      "output = mlp:forward(input)\n"
     ],
     "language": "python",
     "metadata": {},
     "outputs": [
      {
       "metadata": {},
       "output_type": "pyout",
       "prompt_number": 212,
       "text": [
        "\n",
        " 256\n",
        "   3\n",
        "   2\n",
        "[torch.LongStorage of size 3]\n",
        "\n"
       ]
      },
      {
       "ename": "/usr/local/share/lua/5.1/nn/Sequential.lua:25: bad argument #1 to 'updateOutput' (invalid input frame size)\nstack traceback:\n\t[C]: in function 'updateOutput'\n\t/usr/local/share/lua/5.1/nn/Sequential.lua:25: in function 'updateOutput'\n\t/usr/local/share/lua/5.1/nn/Parallel.lua:17: in function 'forward'\n\t[string \"require 'nn'...\"]:27: in main chunk\n\t[C]: in function 'xpcall'\n\t/usr/local/share/lua/5.1/itorch/main.lua:174: in function </usr/local/share/lua/5.1/itorch/main.lua:140>\n\t/usr/local/share/lua/5.1/lzmq/poller.lua:75: in function 'poll'\n\t/usr/local/share/lua/5.1/lzmq/impl/loop.lua:307: in function 'poll'\n\t/usr/local/share/lua/5.1/lzmq/impl/loop.lua:325: in function 'sleep_ex'\n\t/usr/local/share/lua/5.1/lzmq/impl/loop.lua:370: in function 'start'\n\t/usr/local/share/lua/5.1/itorch/main.lua:341: in main chunk\n\t[C]: in function 'require'\n\t(command line):1: in main chunk\n\t[C]: at 0x0103ceff20",
       "evalue": "",
       "output_type": "pyerr",
       "traceback": [
        "/usr/local/share/lua/5.1/nn/Sequential.lua:25: bad argument #1 to 'updateOutput' (invalid input frame size)\nstack traceback:\n\t[C]: in function 'updateOutput'\n\t/usr/local/share/lua/5.1/nn/Sequential.lua:25: in function 'updateOutput'\n\t/usr/local/share/lua/5.1/nn/Parallel.lua:17: in function 'forward'\n\t[string \"require 'nn'...\"]:27: in main chunk\n\t[C]: in function 'xpcall'\n\t/usr/local/share/lua/5.1/itorch/main.lua:174: in function </usr/local/share/lua/5.1/itorch/main.lua:140>\n\t/usr/local/share/lua/5.1/lzmq/poller.lua:75: in function 'poll'\n\t/usr/local/share/lua/5.1/lzmq/impl/loop.lua:307: in function 'poll'\n\t/usr/local/share/lua/5.1/lzmq/impl/loop.lua:325: in function 'sleep_ex'\n\t/usr/local/share/lua/5.1/lzmq/impl/loop.lua:370: in function 'start'\n\t/usr/local/share/lua/5.1/itorch/main.lua:341: in main chunk\n\t[C]: in function 'require'\n\t(command line):1: in main chunk\n\t[C]: at 0x0103ceff20"
       ]
      }
     ],
     "prompt_number": 212
    },
    {
     "cell_type": "code",
     "collapsed": false,
     "input": [
      "mlp=nn.Sequential();\n",
      "c=nn.Parallel(1,2)\n",
      "for i=1,10 do\n",
      " local t=nn.Sequential()\n",
      " t:add(nn.Linear(3,2))\n",
      " t:add(nn.Reshape(2,1))\n",
      " c:add(t)\n",
      "end\n",
      "mlp:add(c)\n",
      "\n",
      "pab = torch.randn(10,3)\n",
      "print(pab)\n",
      "\n",
      "pred=mlp:forward(pab)\n",
      "print(pred)\n",
      "\n",
      "--for i=1,10000 do     -- Train for a few iterations\n",
      "-- x=torch.randn(10,3);\n",
      "-- y=torch.ones(2,10);\n",
      "-- pred=mlp:forward(x)\n",
      "\n",
      "-- criterion= nn.MSECriterion()\n",
      "-- local err=criterion:forward(pred,y)\n",
      "-- local gradCriterion = criterion:backward(pred,y);\n",
      "--- mlp:zeroGradParameters();\n",
      "-- mlp:backward(x, gradCriterion); \n",
      "-- mlp:updateParameters(0.01);\n",
      "-- print(err)\n",
      "--end"
     ],
     "language": "python",
     "metadata": {},
     "outputs": [
      {
       "metadata": {},
       "output_type": "pyout",
       "prompt_number": 206,
       "text": [
        " 0.1529  0.2948 -0.6185\n",
        " 0.1290  1.9864 -0.6518\n",
        " 0.2710  1.8236  3.1843\n",
        "-0.8532  0.9324  0.4534\n",
        "-1.1965  0.5811  0.4347\n",
        " 1.1732 -1.5383 -1.9019\n",
        " 0.4188 -0.0079 -0.9709\n",
        " 0.4847 -0.7351 -0.7829\n",
        " 0.9668  0.3987  0.0965\n",
        " 1.2346 -0.7951 -0.5574\n",
        "[torch.DoubleTensor of dimension 10x3]\n",
        "\n"
       ]
      },
      {
       "metadata": {},
       "output_type": "pyout",
       "prompt_number": 206,
       "text": [
        " 0.5661  1.1638  0.1846  0.7158 -1.1948 -0.5721 -0.1374  0.1844 -0.0585 -0.5245\n",
        " 0.1766 -0.7201  0.2470  0.9786 -0.2253  0.5947 -0.1023 -0.3396 -0.7841  0.1501\n",
        "[torch.DoubleTensor of dimension 2x10]\n",
        "\n"
       ]
      }
     ],
     "prompt_number": 206
    },
    {
     "cell_type": "code",
     "collapsed": false,
     "input": [],
     "language": "python",
     "metadata": {},
     "outputs": []
    }
   ],
   "metadata": {}
  }
 ]
}