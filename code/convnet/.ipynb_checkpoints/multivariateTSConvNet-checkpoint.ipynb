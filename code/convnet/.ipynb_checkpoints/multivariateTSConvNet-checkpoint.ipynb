{
 "metadata": {
  "language": "lua",
  "name": "",
  "signature": "sha256:8a8d57c076e8fcc0a83cb328ba98781cb3173456f5e12e97bcf14ced9925071f"
 },
 "nbformat": 3,
 "nbformat_minor": 0,
 "worksheets": [
  {
   "cells": [
    {
     "cell_type": "code",
     "collapsed": false,
     "input": [
      "--single approach (1 channel)\n",
      "require 'nn'\n",
      "\n",
      "nInputSamples = 1\n",
      "nOutputSamples = 256\n",
      "nPoints = 256\n",
      "kernelSize = 5\n",
      "\n",
      "input = torch.rand(nPoints, nInputSamples)\n",
      "\n",
      "n_feature_maps = 10\n",
      "\n",
      "model = nn.Sequential()\n",
      "model:add(nn.TemporalConvolution(1,n_feature_maps,5))\n",
      "model:add(nn.Sigmoid())\n",
      "model:add(nn.TemporalSubSampling(n_feature_maps,2,2))\n",
      "\n",
      "model:add(nn.TemporalConvolution(n_feature_maps,n_feature_maps,5))\n",
      "model:add(nn.Sigmoid())\n",
      "model:add(nn.TemporalSubSampling(n_feature_maps,2,2))\n",
      "\n",
      "output = model:forward(input)\n",
      "\n",
      "print(output:size())"
     ],
     "language": "python",
     "metadata": {},
     "outputs": [
      {
       "metadata": {},
       "output_type": "pyout",
       "prompt_number": 3,
       "text": [
        "\n",
        " 61\n",
        " 10\n",
        "[torch.LongStorage of size 2]\n",
        "\n"
       ]
      }
     ],
     "prompt_number": 3
    },
    {
     "cell_type": "code",
     "collapsed": false,
     "input": [
      "--trying to get the same structure from the paper, with 3 \n",
      "--channels analyzed merged at the end in the mlp\n",
      "\n",
      "require 'nn'\n",
      "\n",
      "input = torch.rand(256, 3)\n",
      "print(input:size())\n",
      "\n",
      "n_feature_maps = 10\n",
      "\n",
      "--model2 = nn.Sequential()\n",
      "mlp=nn.Parallel(2,1) \n",
      "for i = 1,3 do\n",
      "    model = nn.Sequential()\n",
      "    model:add(nn.TemporalConvolution(1,n_feature_maps,5))\n",
      "    \n",
      "    model:add(nn.Sigmoid())\n",
      "    model:add(nn.TemporalSubSampling(n_feature_maps,2,2))\n",
      "\n",
      "    model:add(nn.TemporalConvolution(n_feature_maps,n_feature_maps,5))\n",
      "    model:add(nn.Sigmoid())\n",
      "    model:add(nn.TemporalSubSampling(n_feature_maps,2,2))\n",
      "    --print(model:size())\n",
      "    --mlp:add(model)\n",
      "    --output = model:forward(input)\n",
      "    --print(output:size())\n",
      "    mlp:add(model)\n",
      "end\n",
      "\n",
      "output = mlp:forward(input)\n"
     ],
     "language": "python",
     "metadata": {},
     "outputs": [
      {
       "metadata": {},
       "output_type": "pyout",
       "prompt_number": 4,
       "text": [
        "\n",
        " 256\n",
        "   3\n",
        "[torch.LongStorage of size 2]\n",
        "\n"
       ]
      },
      {
       "ename": "/usr/local/share/lua/5.1/nn/Sequential.lua:25: bad argument #1 to 'updateOutput' (2D or 3D(batch mode) tensor expected)\nstack traceback:\n\t[C]: in function 'updateOutput'\n\t/usr/local/share/lua/5.1/nn/Sequential.lua:25: in function 'updateOutput'\n\t/usr/local/share/lua/5.1/nn/Parallel.lua:17: in function 'forward'\n\t[string \"--trying to get the same structure from the p...\"]:30: in main chunk\n\t[C]: in function 'xpcall'\n\t/usr/local/share/lua/5.1/itorch/main.lua:174: in function </usr/local/share/lua/5.1/itorch/main.lua:140>\n\t/usr/local/share/lua/5.1/lzmq/poller.lua:75: in function 'poll'\n\t/usr/local/share/lua/5.1/lzmq/impl/loop.lua:307: in function 'poll'\n\t/usr/local/share/lua/5.1/lzmq/impl/loop.lua:325: in function 'sleep_ex'\n\t/usr/local/share/lua/5.1/lzmq/impl/loop.lua:370: in function 'start'\n\t/usr/local/share/lua/5.1/itorch/main.lua:341: in main chunk\n\t[C]: in function 'require'\n\t(command line):1: in main chunk\n\t[C]: at 0x0103ceff20",
       "evalue": "",
       "output_type": "pyerr",
       "traceback": [
        "/usr/local/share/lua/5.1/nn/Sequential.lua:25: bad argument #1 to 'updateOutput' (2D or 3D(batch mode) tensor expected)\nstack traceback:\n\t[C]: in function 'updateOutput'\n\t/usr/local/share/lua/5.1/nn/Sequential.lua:25: in function 'updateOutput'\n\t/usr/local/share/lua/5.1/nn/Parallel.lua:17: in function 'forward'\n\t[string \"--trying to get the same structure from the p...\"]:30: in main chunk\n\t[C]: in function 'xpcall'\n\t/usr/local/share/lua/5.1/itorch/main.lua:174: in function </usr/local/share/lua/5.1/itorch/main.lua:140>\n\t/usr/local/share/lua/5.1/lzmq/poller.lua:75: in function 'poll'\n\t/usr/local/share/lua/5.1/lzmq/impl/loop.lua:307: in function 'poll'\n\t/usr/local/share/lua/5.1/lzmq/impl/loop.lua:325: in function 'sleep_ex'\n\t/usr/local/share/lua/5.1/lzmq/impl/loop.lua:370: in function 'start'\n\t/usr/local/share/lua/5.1/itorch/main.lua:341: in main chunk\n\t[C]: in function 'require'\n\t(command line):1: in main chunk\n\t[C]: at 0x0103ceff20"
       ]
      }
     ],
     "prompt_number": 4
    },
    {
     "cell_type": "code",
     "collapsed": false,
     "input": [],
     "language": "python",
     "metadata": {},
     "outputs": []
    }
   ],
   "metadata": {}
  }
 ]
}