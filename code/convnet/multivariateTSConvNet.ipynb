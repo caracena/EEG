{
 "metadata": {
  "language": "lua",
  "name": "",
  "signature": "sha256:24aa083028b499199d4b475ab3ab9b745a166a883988376af18fa20a82a497b0"
 },
 "nbformat": 3,
 "nbformat_minor": 0,
 "worksheets": [
  {
   "cells": [
    {
     "cell_type": "code",
     "collapsed": false,
     "input": [
      "--single approach (1 channel)\n",
      "require 'nn'\n",
      "\n",
      "nInputSamples = 1\n",
      "nOutputSamples = 256\n",
      "nPoints = 256\n",
      "kernelSize = 5\n",
      "\n",
      "input = torch.rand(nPoints, nInputSamples)\n",
      "\n",
      "n_feature_maps = 10\n",
      "\n",
      "model = nn.Sequential()\n",
      "model:add(nn.TemporalConvolution(1,n_feature_maps,5))\n",
      "model:add(nn.Sigmoid())\n",
      "model:add(nn.TemporalSubSampling(n_feature_maps,2,2))\n",
      "\n",
      "model:add(nn.TemporalConvolution(n_feature_maps,n_feature_maps,5))\n",
      "model:add(nn.Sigmoid())\n",
      "model:add(nn.TemporalSubSampling(n_feature_maps,2,2))\n",
      "\n",
      "output = model:forward(input)\n",
      "\n",
      "print(output:size())"
     ],
     "language": "python",
     "metadata": {},
     "outputs": [
      {
       "metadata": {},
       "output_type": "pyout",
       "prompt_number": 3,
       "text": [
        "\n",
        " 61\n",
        " 10\n",
        "[torch.LongStorage of size 2]\n",
        "\n"
       ]
      }
     ],
     "prompt_number": 3
    },
    {
     "cell_type": "code",
     "collapsed": false,
     "input": [
      "require 'nn'\n",
      "\n",
      "input = torch.rand(256, 3,1)\n",
      "n_feature_maps = 10\n",
      "\n",
      "mlp = nn.Sequential()\n",
      "\n",
      "main_model=nn.Parallel(2,1) \n",
      "for i = 1,3 do\n",
      "    local model = nn.Sequential()\n",
      "    model:add(nn.TemporalConvolution(1,n_feature_maps,5))\n",
      "    model:add(nn.Sigmoid())\n",
      "    model:add(nn.TemporalSubSampling(n_feature_maps,2,2))\n",
      "\n",
      "    model:add(nn.TemporalConvolution(n_feature_maps,n_feature_maps,5))\n",
      "    model:add(nn.Sigmoid())\n",
      "    model:add(nn.TemporalSubSampling(n_feature_maps,2,2))\n",
      "   \n",
      "    main_model:add(model)\n",
      "end\n",
      "\n",
      "mlp:add(main_model)\n",
      "mlp:add(nn.Reshape(1,n_feature_maps*183))\n",
      "\n",
      "mlp:add(nn.Linear(n_feature_maps*183,732))\n",
      "mlp:add(nn.Sigmoid())\n",
      "mlp:add(nn.Linear(732,4))\n",
      "output = mlp:forward(input)\n",
      "print(output:size())\n"
     ],
     "language": "python",
     "metadata": {},
     "outputs": [
      {
       "metadata": {},
       "output_type": "pyout",
       "prompt_number": 7,
       "text": [
        "\n",
        " 1\n",
        " 4\n",
        "[torch.LongStorage of size 2]\n",
        "\n"
       ]
      }
     ],
     "prompt_number": 7
    },
    {
     "cell_type": "code",
     "collapsed": false,
     "input": [],
     "language": "python",
     "metadata": {},
     "outputs": []
    }
   ],
   "metadata": {}
  }
 ]
}