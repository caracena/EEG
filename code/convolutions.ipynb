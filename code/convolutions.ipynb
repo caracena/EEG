{
 "metadata": {
  "name": "",
  "signature": "sha256:06d94f9e7918d512234f19f58c6ca78a7231d776eda3a0e4828775346c851871"
 },
 "nbformat": 3,
 "nbformat_minor": 0,
 "worksheets": [
  {
   "cells": [
    {
     "cell_type": "code",
     "collapsed": false,
     "input": [
      "%matplotlib inline"
     ],
     "language": "python",
     "metadata": {},
     "outputs": [],
     "prompt_number": 11
    },
    {
     "cell_type": "code",
     "collapsed": false,
     "input": [
      "import numpy as np\n",
      "import matplotlib.pyplot as plt\n",
      "from scipy import signal"
     ],
     "language": "python",
     "metadata": {},
     "outputs": [],
     "prompt_number": 74
    },
    {
     "cell_type": "markdown",
     "metadata": {},
     "source": [
      "En general, una senal puede ser re escrita como la suma de funciones $\\delta$ scaladas y desplazadas:\n",
      "\n",
      "$x(n) = \\sum_{k= - \\infty}^\\infty x(k)\\delta(n-k)$\n",
      "\n",
      "Ahora, supongamos que conocemos el impulse response the nuestro sistema. El impulse response, $h(n)$ es el output  del sistema dada una funcion de impuso $x(n)$ como input \n",
      "\n",
      "Luego: $ \\delta(n) \\rightarrow system \\rightarrow h(n) $\n",
      "\n",
      "Si es sistema es time invariant:\n",
      "\n",
      " $ \\delta(n - k ) \\rightarrow system \\rightarrow h(n - k) $\n",
      " \n",
      "Si el sistema es linear:\n",
      "\n",
      " $ c * \\delta(n) \\rightarrow system \\rightarrow c* h(n) $\n",
      " \n",
      " \n",
      "Si el input tiene 3 componentes, $a\\delta(n) + b\\delta(n-1) + c\\delta(n-2)$, el output tendra propiedad linear aditiva :\n",
      "\n",
      "$a\\delta(n) + b\\delta(n-1) + c\\delta(n-2) \\rightarrow system \\rightarrow a h(n) + b h(n-1) + c h (n-2) $\n",
      "\n",
      "\n",
      "\\textbf{Convolucion en 1D}:\n",
      "\n",
      "Para un sistema linear  y time invariant, la respuesta  a varios inputs puede ser representada com la suma de las respuestas de cada input ailado:\n",
      "\n",
      "$ \\sum c_k \\delta(n - k )   \\rightarrow system \\rightarrow \\sum c_k h(n-k) $\n",
      "\n",
      "Luego , $  y[n] = x[n] = \\sum x[k] h[n - k]$\n",
      "\n",
      "\n",
      "\n"
     ]
    },
    {
     "cell_type": "code",
     "collapsed": false,
     "input": [
      "x = [3,4,5,0] # + 1 0's\n",
      "h = [2,1,0,0] # + 2 0's "
     ],
     "language": "python",
     "metadata": {},
     "outputs": [],
     "prompt_number": 57
    },
    {
     "cell_type": "code",
     "collapsed": false,
     "input": [
      "y = []\n",
      "for i in range(len(x)):\n",
      "    temp = 0\n",
      "    for j in range(len(h)):\n",
      "        temp += + x[i - j] *h[j] \n",
      "    y.append(temp)    \n",
      "    \n",
      "    "
     ],
     "language": "python",
     "metadata": {},
     "outputs": [],
     "prompt_number": 61
    },
    {
     "cell_type": "code",
     "collapsed": false,
     "input": [
      "print y"
     ],
     "language": "python",
     "metadata": {},
     "outputs": [
      {
       "output_type": "stream",
       "stream": "stdout",
       "text": [
        "[6, 11, 14, 5]\n"
       ]
      }
     ],
     "prompt_number": 62
    },
    {
     "cell_type": "code",
     "collapsed": false,
     "input": [
      "plt.plot(x, label=\"x\")\n",
      "plt.plot(h, label=\"h\")\n",
      "plt.plot(y, label=\"y\")\n",
      "plt.legend()\n",
      "plt.show()"
     ],
     "language": "python",
     "metadata": {},
     "outputs": [
      {
       "metadata": {},
       "output_type": "display_data",
       "png": "[encoded data removed]",
       "text": [
        "<matplotlib.figure.Figure at 0x108a062d0>"
       ]
      }
     ],
     "prompt_number": 63
    },
    {
     "cell_type": "markdown",
     "metadata": {},
     "source": [
      "Si comparamos el resultado con la implementacion de numpy, obtenemos el mismo resultado:"
     ]
    },
    {
     "cell_type": "code",
     "collapsed": false,
     "input": [
      "print np.convolve([3,4,5],[2,1])"
     ],
     "language": "python",
     "metadata": {},
     "outputs": [
      {
       "output_type": "stream",
       "stream": "stdout",
       "text": [
        "[ 6 11 14  5]\n"
       ]
      }
     ],
     "prompt_number": 72
    },
    {
     "cell_type": "markdown",
     "metadata": {},
     "source": [
      "\n",
      "Convolucion en 2D:\n",
      "\n",
      "En esta caso la funcion delta tien dos dimensiones , $\\delta(m,n) $ es 1 cuando $ m = n = 0$  y 0 en cualquier otro casol. En 2D, el impulse response es usualmente llamado kernel o filter.\n",
      "\n",
      "De la misma forma, una senal puede ser descompuesta en la suma de funciones delta escaladas y desplazadas.\n",
      "\n",
      "$x(m,n) = \\sum_{j} \\sum_{i} x(i,j)\\delta(m-i, n-j)$\n",
      "\n",
      "\n",
      "Luego , de la misma forma, \n",
      "\n",
      "$y(m,n) = x (m,n) * h(m,n) =   \\sum_{j} \\sum_{i} x(i,j)\\delta(m-i, n-j)$\n",
      "\n",
      "\n",
      "NOTA: usualmente se denota el punto $h(0,0)$ como el origen del kernel , luego , hay que arreglar los indices teniendo en  cuenta este siustema de referencia.  Por ejemplo,  supongamos que el kernel tien dimension = 5, luego los indices de los elementos que lo componen sera: $ -2, -1, 0 ,1,2$\n",
      "\n",
      "NOTA 2: m representa columnas, n representa  filas.... si, es un poco confuso.\\\n"
     ]
    },
    {
     "cell_type": "markdown",
     "metadata": {},
     "source": [
      "supongamos la siguiente matriz:\n",
      "\n",
      "\n",
      "| a | b | c |\n",
      "|---|---|---|\n",
      "| d | e | f |\n",
      "| g | h | i |\n",
      "\n"
     ]
    },
    {
     "cell_type": "markdown",
     "metadata": {},
     "source": [
      "veamos como calcular el output del punto $(1,1)$\n",
      "en este caso el origen  esta en $(0,0)$ \n",
      "\n",
      "$y(1,1) = \\sum \\sum  x(i,j) * h(1-i,1-j)$\n",
      "\n",
      "$ =  x(0,0)h (1,1) + x(1,0) h(0,1) +  x(2,0) h(-1,1) \\\\\n",
      "+ x(0,1) h(1,0) + x(1,1)h(0,0) x(2,1)h(-1,0) \\\\\n",
      "+ x(0,2)h(1,-1) + x(1,2)h(0,-1) + x(2,2)h(-1,-1) \n",
      "$\n",
      "\n",
      "\n"
     ]
    },
    {
     "cell_type": "code",
     "collapsed": false,
     "input": [
      "\n",
      "i = np.matrix( ((1,2,3), (4, 5,6), (7,8,9)) )  #input \n",
      "k = np.matrix( ((-1,-2,-1), (0, 0,0), (1,2,1)) )   # kernel \n",
      "\n",
      "#ahh me da lata implementarlo, asi que usemos scipy....\n",
      "\n",
      "#http://docs.scipy.org/doc/scipy-0.15.1/reference/generated/scipy.signal.convolve2d.html\n",
      "#ojo con el parametro mode!\n",
      "print signal.convolve2d(i,k, mode='same')\n",
      "\n",
      "    \n",
      "    "
     ],
     "language": "python",
     "metadata": {},
     "outputs": [
      {
       "output_type": "stream",
       "stream": "stdout",
       "text": [
        "[[-13 -20 -17]\n",
        " [-18 -24 -18]\n",
        " [ 13  20  17]]\n"
       ]
      }
     ],
     "prompt_number": 81
    },
    {
     "cell_type": "code",
     "collapsed": false,
     "input": [
      "# prueba\n",
      "i = np.random.random((28, 28))\n",
      "k = np.random.random((5, 5))  \n",
      "o = signal.convolve2d(i,k, mode='valid' ) # 24\n",
      "\n",
      "\n"
     ],
     "language": "python",
     "metadata": {},
     "outputs": [],
     "prompt_number": 90
    },
    {
     "cell_type": "code",
     "collapsed": false,
     "input": [
      "print len(o)"
     ],
     "language": "python",
     "metadata": {},
     "outputs": [
      {
       "output_type": "stream",
       "stream": "stdout",
       "text": [
        "24\n"
       ]
      }
     ],
     "prompt_number": 91
    },
    {
     "cell_type": "code",
     "collapsed": false,
     "input": [],
     "language": "python",
     "metadata": {},
     "outputs": []
    }
   ],
   "metadata": {}
  }
 ]
}