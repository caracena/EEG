{
 "metadata": {
  "name": "",
  "signature": "sha256:eca463a6e677df4e007a5252e752e9b1e212875b8786d146c602610cfb08ee8c"
 },
 "nbformat": 3,
 "nbformat_minor": 0,
 "worksheets": []
}